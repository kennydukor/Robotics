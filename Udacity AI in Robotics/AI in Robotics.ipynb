{
 "cells": [
  {
   "cell_type": "markdown",
   "metadata": {},
   "source": [
    "Robot Localization"
   ]
  },
  {
   "cell_type": "code",
   "execution_count": 79,
   "metadata": {},
   "outputs": [
    {
     "name": "stdout",
     "output_type": "stream",
     "text": [
      "[0.04000000000000001, 0.12, 0.12, 0.04000000000000001, 0.04000000000000001]\n"
     ]
    }
   ],
   "source": [
    "p = [0.2, 0.2, 0.2, 0.2, 0.2] # uniform distribution (Prior)\n",
    "world = [\"green\", \"red\", \"red\", \"green\", \"green\"]\n",
    "Z = \"red\" # robot measurement\n",
    "pHit = 0.6 # reward\n",
    "pMiss = 0.2 # penalty\n",
    "\n",
    "def sense(prob, measurement):\n",
    "    belief = [] # unbalanced probability\n",
    "    for i in range(len(prob)):\n",
    "        hit = (measurement == world[i])\n",
    "        belief.append(prob[i] * ((hit * pHit) + ((1-hit) * pMiss)))           \n",
    "    return belief\n",
    "print(sense(p, Z))"
   ]
  },
  {
   "cell_type": "markdown",
   "metadata": {},
   "source": [
    "Normalizing so that the probailities add up to one"
   ]
  },
  {
   "cell_type": "code",
   "execution_count": 80,
   "metadata": {},
   "outputs": [
    {
     "name": "stdout",
     "output_type": "stream",
     "text": [
      "Sum of Posterior: 0.3600000000000001\n",
      "Measurement Update: [0.1111111111111111, 0.3333333333333332, 0.3333333333333332, 0.1111111111111111, 0.1111111111111111]\n",
      "Sum of Normalized Probaility: 0.9999999999999998\n"
     ]
    }
   ],
   "source": [
    "sumPosterior = sum(sense(p, Z))\n",
    "print (\"Sum of Posterior: \" + str(sumPosterior))\n",
    "normProb = []\n",
    "for i in sense(p, Z):\n",
    "    normProb.append(i/sumPosterior)\n",
    "print(\"Measurement Update: \" + str(normProb)) # measurement update\n",
    "print(\"Sum of Normalized Probaility: \" + str(sum(normProb)))"
   ]
  },
  {
   "cell_type": "markdown",
   "metadata": {},
   "source": [
    "---------------------- OR -------------------------"
   ]
  },
  {
   "cell_type": "code",
   "execution_count": 78,
   "metadata": {},
   "outputs": [
    {
     "name": "stdout",
     "output_type": "stream",
     "text": [
      "[0.1111111111111111, 0.3333333333333332, 0.3333333333333332, 0.1111111111111111, 0.1111111111111111]\n"
     ]
    }
   ],
   "source": [
    "p = [0.2, 0.2, 0.2, 0.2, 0.2] # uniform distribution (Prior)\n",
    "world = [\"green\", \"red\", \"red\", \"green\", \"green\"]\n",
    "Z = \"red\" # robot measurement\n",
    "pHit = 0.6 # reward\n",
    "pMiss = 0.2 # penalty\n",
    "\n",
    "def posterior(prob, measurement):\n",
    "    belief = [] # unbalanced probability\n",
    "    for i in range(len(prob)):\n",
    "        hit = (measurement == world[i])\n",
    "        belief.append(prob[i] * ((hit * pHit) + ((1-hit) * pMiss)))  \n",
    "    s = sum(belief)\n",
    "    for j in range(len(belief)):\n",
    "        belief[j] = belief[j]/s\n",
    "    return belief\n",
    "print(posterior(p, Z))"
   ]
  },
  {
   "cell_type": "markdown",
   "metadata": {},
   "source": [
    "What if the robot Senses twice ie red and green."
   ]
  },
  {
   "cell_type": "code",
   "execution_count": 101,
   "metadata": {},
   "outputs": [
    {
     "name": "stdout",
     "output_type": "stream",
     "text": [
      "[0.20000000000000004, 0.19999999999999996, 0.19999999999999996, 0.20000000000000004, 0.20000000000000004]\n"
     ]
    }
   ],
   "source": [
    "p = [0.2, 0.2, 0.2, 0.2, 0.2] # uniform distribution (Prior)\n",
    "world = [\"green\", \"red\", \"red\", \"green\", \"green\"]\n",
    "Z = [\"red\", \"green\"] # robot measurement\n",
    "pHit = 0.6 # reward\n",
    "pMiss = 0.2 # penalty\n",
    "\n",
    "def posterior(prob, measurement):\n",
    "    belief = [] # unbalanced probability\n",
    "    for i in range(len(prob)):\n",
    "        hit = (measurement == world[i])\n",
    "        belief.append(prob[i] * ((hit * pHit) + ((1-hit) * pMiss)))  \n",
    "    s = sum(belief)\n",
    "    for j in range(len(belief)):\n",
    "        belief[j] = belief[j]/s\n",
    "    return belief\n",
    "    \n",
    "for k in range(len(Z)):\n",
    "    p = posterior(p, Z[k]) # recursion\n",
    "print(p)"
   ]
  },
  {
   "cell_type": "markdown",
   "metadata": {},
   "source": [
    "### ROBOT MOTION"
   ]
  },
  {
   "cell_type": "markdown",
   "metadata": {},
   "source": [
    "EXACT MOTION"
   ]
  },
  {
   "cell_type": "code",
   "execution_count": 128,
   "metadata": {},
   "outputs": [
    {
     "name": "stdout",
     "output_type": "stream",
     "text": [
      "[0, 0, 0, 1, 0]\n"
     ]
    }
   ],
   "source": [
    "p = [0, 1, 0, 0, 0] # uniform distribution (Prior)\n",
    "world = [\"green\", \"red\", \"red\", \"green\", \"green\"]\n",
    "Z = [\"red\", \"green\"] # robot measurement\n",
    "pHit = 0.6 # reward\n",
    "pMiss = 0.2 # penalty\n",
    "\n",
    "def posterior(prob, measurement):\n",
    "    belief = [] # unbalanced probability\n",
    "    for i in range(len(prob)):\n",
    "        hit = (measurement == world[i])\n",
    "        belief.append(prob[i] * ((hit * pHit) + ((1-hit) * pMiss)))  \n",
    "    s = sum(belief)\n",
    "    for j in range(len(belief)):\n",
    "        belief[j] = belief[j]/s\n",
    "    return belief\n",
    "\n",
    "def move(p, U):  # U is the number of times the robot moves to the right or left\n",
    "    q = []\n",
    "    for i in range(len(p)):\n",
    "        q.append(p[i-U % len(p)])  #the modulus operator is used incase the shift exceed the len of p\n",
    "    return q\n",
    "# for k in range(len(Z)):\n",
    "#     p = posterior(p, Z[k]) # recursion\n",
    "print(move(p, 2))"
   ]
  },
  {
   "cell_type": "markdown",
   "metadata": {},
   "source": [
    "INEXACT MOTION"
   ]
  },
  {
   "cell_type": "code",
   "execution_count": 135,
   "metadata": {},
   "outputs": [
    {
     "name": "stdout",
     "output_type": "stream",
     "text": [
      "0\n"
     ]
    }
   ],
   "source": [
    "p = [0, 1, 0, 0, 0] # uniform distribution (Prior)\n",
    "world = [\"green\", \"red\", \"red\", \"green\", \"green\"]\n",
    "Z = [\"red\", \"green\"] # robot measurement\n",
    "pHit = 0.6 # reward\n",
    "pMiss = 0.2 # penalty\n",
    "pExact = 0.8 # two steps\n",
    "pOvershoot = 0.1 # three steps\n",
    "pUndershoot = 0.1 # one step\n",
    "\n",
    "def posterior(prob, measurement):\n",
    "    belief = [] # unbalanced probability\n",
    "    for i in range(len(prob)):\n",
    "        hit = (measurement == world[i])\n",
    "        belief.append(prob[i] * ((hit * pHit) + ((1-hit) * pMiss)))  \n",
    "    s = sum(belief)\n",
    "    for j in range(len(belief)):\n",
    "        belief[j] = belief[j]/s\n",
    "    return belief\n",
    "\n",
    "def move(p, U):  # U is the number of times the robot moves to the right or left\n",
    "    q = []\n",
    "    for i in range(len(p)):\n",
    "        s = p[i-U % len(p)]\n",
    "#         q.append(p[i-U % len(p)])  #the modulus operator is used incase the shift exceed the len of p\n",
    "    return s\n",
    "\n",
    "# for k in range(len(Z)):\n",
    "#     p = posterior(p, Z[k]) # recursion\n",
    "print(move(p, 7))"
   ]
  },
  {
   "cell_type": "code",
   "execution_count": null,
   "metadata": {
    "collapsed": true
   },
   "outputs": [],
   "source": []
  }
 ],
 "metadata": {
  "kernelspec": {
   "display_name": "Python 3",
   "language": "python",
   "name": "python3"
  },
  "language_info": {
   "codemirror_mode": {
    "name": "ipython",
    "version": 3
   },
   "file_extension": ".py",
   "mimetype": "text/x-python",
   "name": "python",
   "nbconvert_exporter": "python",
   "pygments_lexer": "ipython3",
   "version": "3.6.2"
  }
 },
 "nbformat": 4,
 "nbformat_minor": 2
}
