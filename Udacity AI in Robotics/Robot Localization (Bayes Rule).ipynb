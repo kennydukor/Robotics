{
 "cells": [
  {
   "cell_type": "markdown",
   "metadata": {},
   "source": [
    "Robot Localization"
   ]
  },
  {
   "cell_type": "code",
   "execution_count": 35,
   "metadata": {},
   "outputs": [
    {
     "name": "stdout",
     "output_type": "stream",
     "text": [
      "[0.04000000000000001, 0.12, 0.12, 0.04000000000000001, 0.04000000000000001]\n"
     ]
    }
   ],
   "source": [
    "p = [0.2, 0.2, 0.2, 0.2, 0.2] # uniform distribution (Prior)\n",
    "world = [\"green\", \"red\", \"red\", \"green\", \"green\"]\n",
    "Z = \"red\" # robot measurement\n",
    "pHit = 0.6 # reward\n",
    "pMiss = 0.2 # penalty\n",
    "\n",
    "def sense(prob, measurement):\n",
    "    belief = [] # unbalanced probability\n",
    "    for i in range(len(prob)):\n",
    "        hit = (measurement == world[i])\n",
    "        belief.append(prob[i] * ((hit * pHit) + ((1-hit) * pMiss)))           \n",
    "    return belief\n",
    "print(sense(p, Z))"
   ]
  },
  {
   "cell_type": "markdown",
   "metadata": {},
   "source": [
    "Normalizing so that the probailities add up to one"
   ]
  },
  {
   "cell_type": "code",
   "execution_count": 36,
   "metadata": {},
   "outputs": [
    {
     "name": "stdout",
     "output_type": "stream",
     "text": [
      "Sum of Posterior: 0.3600000000000001\n",
      "Measurement Update: [0.1111111111111111, 0.3333333333333332, 0.3333333333333332, 0.1111111111111111, 0.1111111111111111]\n",
      "Sum of Normalized Probaility: 0.9999999999999998\n"
     ]
    }
   ],
   "source": [
    "sumPosterior = sum(sense(p, Z))\n",
    "print (\"Sum of Posterior: \" + str(sumPosterior))\n",
    "normProb = []\n",
    "for i in sense(p, Z):\n",
    "    normProb.append(i/sumPosterior)\n",
    "print(\"Measurement Update: \" + str(normProb)) # measurement update\n",
    "print(\"Sum of Normalized Probaility: \" + str(sum(normProb)))"
   ]
  },
  {
   "cell_type": "markdown",
   "metadata": {},
   "source": [
    "---------------------- OR -------------------------"
   ]
  },
  {
   "cell_type": "code",
   "execution_count": 37,
   "metadata": {},
   "outputs": [
    {
     "name": "stdout",
     "output_type": "stream",
     "text": [
      "[0.1111111111111111, 0.3333333333333332, 0.3333333333333332, 0.1111111111111111, 0.1111111111111111]\n"
     ]
    }
   ],
   "source": [
    "p = [0.2, 0.2, 0.2, 0.2, 0.2] # uniform distribution (Prior)\n",
    "world = [\"green\", \"red\", \"red\", \"green\", \"green\"]\n",
    "Z = \"red\" # robot measurement\n",
    "pHit = 0.6 # reward\n",
    "pMiss = 0.2 # penalty\n",
    "\n",
    "def sense(prob, measurement):\n",
    "    belief = [] # unbalanced probability\n",
    "    for i in range(len(prob)):\n",
    "        hit = (measurement == world[i])\n",
    "        belief.append(prob[i] * ((hit * pHit) + ((1-hit) * pMiss)))  \n",
    "    s = sum(belief)\n",
    "    for j in range(len(belief)):\n",
    "        belief[j] = belief[j]/s\n",
    "    return belief\n",
    "print(sense(p, Z))"
   ]
  },
  {
   "cell_type": "markdown",
   "metadata": {},
   "source": [
    "What if the robot Senses twice ie red and green."
   ]
  },
  {
   "cell_type": "code",
   "execution_count": 38,
   "metadata": {},
   "outputs": [
    {
     "name": "stdout",
     "output_type": "stream",
     "text": [
      "[0.20000000000000004, 0.19999999999999996, 0.19999999999999996, 0.20000000000000004, 0.20000000000000004]\n"
     ]
    }
   ],
   "source": [
    "p = [0.2, 0.2, 0.2, 0.2, 0.2] # uniform distribution (Prior)\n",
    "world = [\"green\", \"red\", \"red\", \"green\", \"green\"]\n",
    "Z = [\"red\", \"green\"] # robot measurement\n",
    "pHit = 0.6 # reward\n",
    "pMiss = 0.2 # penalty\n",
    "\n",
    "def sense(prob, measurement):\n",
    "    belief = [] # unbalanced probability\n",
    "    for i in range(len(prob)):\n",
    "        hit = (measurement == world[i])\n",
    "        belief.append(prob[i] * ((hit * pHit) + ((1-hit) * pMiss)))  \n",
    "    s = sum(belief)\n",
    "    for j in range(len(belief)):\n",
    "        belief[j] = belief[j]/s\n",
    "    return belief\n",
    "    \n",
    "for k in range(len(Z)):\n",
    "    p = sense(p, Z[k]) # recursion\n",
    "print(p)"
   ]
  },
  {
   "cell_type": "markdown",
   "metadata": {},
   "source": [
    "### ROBOT MOTION"
   ]
  },
  {
   "cell_type": "markdown",
   "metadata": {},
   "source": [
    "EXACT MOTION"
   ]
  },
  {
   "cell_type": "code",
   "execution_count": 39,
   "metadata": {},
   "outputs": [
    {
     "name": "stdout",
     "output_type": "stream",
     "text": [
      "[0, 0, 0, 1, 0]\n"
     ]
    }
   ],
   "source": [
    "p = [0, 1, 0, 0, 0] # uniform distribution (Prior)\n",
    "world = [\"green\", \"red\", \"red\", \"green\", \"green\"]\n",
    "Z = [\"red\", \"green\"] # robot measurement\n",
    "pHit = 0.6 # reward\n",
    "pMiss = 0.2 # penalty\n",
    "\n",
    "def sense(prob, measurement):\n",
    "    belief = [] # unbalanced probability\n",
    "    for i in range(len(prob)):\n",
    "        hit = (measurement == world[i])\n",
    "        belief.append(prob[i] * ((hit * pHit) + ((1-hit) * pMiss)))  \n",
    "    s = sum(belief)\n",
    "    for j in range(len(belief)):\n",
    "        belief[j] = belief[j]/s\n",
    "    return belief\n",
    "\n",
    "def move(p, U):  # U is the number of times the robot moves to the right or left\n",
    "    q = []\n",
    "    for i in range(len(p)):\n",
    "        q.append(p[i-U % len(p)])  #the modulus operator is used incase the shift exceed the len of p\n",
    "    return q\n",
    "# for k in range(len(Z)):\n",
    "#     p = sense(p, Z[k]) # recursion\n",
    "print(move(p, 2))"
   ]
  },
  {
   "cell_type": "markdown",
   "metadata": {},
   "source": [
    "INEXACT MOTION"
   ]
  },
  {
   "cell_type": "code",
   "execution_count": 40,
   "metadata": {},
   "outputs": [
    {
     "name": "stdout",
     "output_type": "stream",
     "text": [
      "[0.4, 0.05, 0.05, 0.4, 0.1]\n"
     ]
    }
   ],
   "source": [
    "p = [0, 0.5, 0, 0.5, 0] # uniform distribution (Prior)\n",
    "world = [\"green\", \"red\", \"red\", \"green\", \"green\"]\n",
    "Z = [\"red\", \"green\"] # robot measurement\n",
    "pHit = 0.6 # reward\n",
    "pMiss = 0.2 # penalty\n",
    "pExact = 0.8 # two steps\n",
    "pOvershoot = 0.1 # three steps\n",
    "pUndershoot = 0.1 # one step\n",
    "\n",
    "def sense(prob, measurement):\n",
    "    belief = [] # unbalanced probability\n",
    "    for i in range(len(prob)):\n",
    "        hit = (measurement == world[i])\n",
    "        belief.append(prob[i] * ((hit * pHit) + ((1-hit) * pMiss)))  \n",
    "    s = sum(belief)\n",
    "    for j in range(len(belief)):\n",
    "        belief[j] = belief[j]/s\n",
    "    return belief\n",
    "\n",
    "def move(p, U):  # U is the number of times the robot moves to the right or left\n",
    "    q = []\n",
    "    for i in range(len(p)):\n",
    "        prob_of_movement = pExact * p[i-U % len(p)]\n",
    "        prob_of_movement = prob_of_movement + pOvershoot * p[i-U-1 % len(p)] # not yet understood\n",
    "        prob_of_movement = prob_of_movement + pUndershoot * p[i-U+1 % len(p)]\n",
    "        q.append(prob_of_movement)\n",
    "    return q\n",
    "\n",
    "# for k in range(len(Z)):\n",
    "#     p = sense(p, Z[k]) # recursion\n",
    "print(move(p, 2))"
   ]
  },
  {
   "cell_type": "markdown",
   "metadata": {},
   "source": [
    "Inexact motion with  robot that moves twice"
   ]
  },
  {
   "cell_type": "code",
   "execution_count": 41,
   "metadata": {},
   "outputs": [
    {
     "name": "stdout",
     "output_type": "stream",
     "text": [
      "[0.010000000000000002, 0.010000000000000002, 0.16000000000000003, 0.6600000000000001, 0.16000000000000003]\n"
     ]
    }
   ],
   "source": [
    "p = [0, 1, 0, 0, 0] # uniform distribution (Prior)\n",
    "world = [\"green\", \"red\", \"red\", \"green\", \"green\"]\n",
    "Z = [\"red\", \"green\"] # robot measurement\n",
    "pHit = 0.6 # reward\n",
    "pMiss = 0.2 # penalty\n",
    "pExact = 0.8 # two steps\n",
    "pOvershoot = 0.1 # three steps\n",
    "pUndershoot = 0.1 # one step\n",
    "z = []\n",
    "\n",
    "def sense(prob, measurement): # posterior\n",
    "    belief = [] # unbalanced probability\n",
    "    for i in range(len(prob)):\n",
    "        hit = (measurement == world[i])\n",
    "        belief.append(prob[i] * ((hit * pHit) + ((1-hit) * pMiss)))  \n",
    "    s = sum(belief)\n",
    "    for j in range(len(belief)):\n",
    "        belief[j] = belief[j]/s\n",
    "    return belief\n",
    "\n",
    "def move(p, U):  # U is the number of times the robot moves to the right or left\n",
    "    q = []\n",
    "    for i in range(len(p)):\n",
    "        prob_of_movement = pExact * p[i-U % len(p)]\n",
    "        prob_of_movement = prob_of_movement + pOvershoot * p[i-U-1 % len(p)] # not yet understood\n",
    "        prob_of_movement = prob_of_movement + pUndershoot * p[i-U+1 % len(p)]\n",
    "        q.append(prob_of_movement)\n",
    "        \n",
    "    return q\n",
    "\n",
    "# for k in range(len(Z)):\n",
    "#     p = sense(p, Z[k]) # recursion\n",
    "\n",
    "z = move(p, 1)\n",
    "z = move(z, 1)\n",
    "print(z)\n",
    "# OR\n",
    "# p = move(p, 1)\n",
    "# p = move(p, 1)\n",
    "# print(p)"
   ]
  },
  {
   "cell_type": "markdown",
   "metadata": {},
   "source": [
    "Now, Lets move 1000 times"
   ]
  },
  {
   "cell_type": "code",
   "execution_count": 42,
   "metadata": {},
   "outputs": [
    {
     "name": "stdout",
     "output_type": "stream",
     "text": [
      "[0.20000000000000365, 0.20000000000000373, 0.20000000000000365, 0.2000000000000035, 0.2000000000000035]\n"
     ]
    }
   ],
   "source": [
    "p = [0, 1, 0, 0, 0] # uniform distribution (Prior)\n",
    "world = [\"green\", \"red\", \"red\", \"green\", \"green\"]\n",
    "Z = [\"red\", \"green\"] # robot measurement\n",
    "pHit = 0.6 # reward\n",
    "pMiss = 0.2 # penalty\n",
    "pExact = 0.8 # two steps\n",
    "pOvershoot = 0.1 # three steps\n",
    "pUndershoot = 0.1 # one step\n",
    "z = []\n",
    "\n",
    "# def sense(prob, measurement):\n",
    "#     belief = [] # unbalanced probability\n",
    "#     for i in range(len(prob)):\n",
    "#         hit = (measurement == world[i])\n",
    "#         belief.append(prob[i] * ((hit * pHit) + ((1-hit) * pMiss)))  \n",
    "#     s = sum(belief)\n",
    "#     for j in range(len(belief)):\n",
    "#         belief[j] = belief[j]/s\n",
    "#     return belief\n",
    "\n",
    "def move(p, U):  # U is the number of times the robot moves to the right or left\n",
    "    q = []\n",
    "    for i in range(len(p)):\n",
    "        prob_of_movement = pExact * p[i-U % len(p)]\n",
    "        prob_of_movement = prob_of_movement + pOvershoot * p[i-U-1 % len(p)] # not yet understood\n",
    "        prob_of_movement = prob_of_movement + pUndershoot * p[i-U+1 % len(p)]\n",
    "        q.append(prob_of_movement)\n",
    "        \n",
    "    return q\n",
    "\n",
    "# for k in range(len(Z)):\n",
    "#     p = sense(p, Z[k]) # recursion\n",
    "\n",
    "for i in range(1000):\n",
    "    p = move(p, 1)\n",
    "print(p)"
   ]
  },
  {
   "cell_type": "markdown",
   "metadata": {},
   "source": [
    "We notice that the result is a uniform distribution"
   ]
  },
  {
   "cell_type": "markdown",
   "metadata": {},
   "source": [
    "### SENSE AND MOVE"
   ]
  },
  {
   "cell_type": "markdown",
   "metadata": {},
   "source": [
    "Now, we want to robot to sense red and move right then sense green and move right again. Assume uniform distribution"
   ]
  },
  {
   "cell_type": "code",
   "execution_count": 48,
   "metadata": {},
   "outputs": [
    {
     "name": "stdout",
     "output_type": "stream",
     "text": [
      "[0.21157894736842103, 0.1515789473684211, 0.08105263157894739, 0.16842105263157897, 0.3873684210526316]\n"
     ]
    }
   ],
   "source": [
    "p = [0.2, 0.2, 0.2, 0.2, 0.2] # uniform distribution (Prior)\n",
    "world = [\"green\", \"red\", \"red\", \"green\", \"green\"]\n",
    "Z = [\"red\", \"green\"] # robot measurement\n",
    "motion = [1, 1]\n",
    "pHit = 0.6 # reward\n",
    "pMiss = 0.2 # penalty\n",
    "pExact = 0.8 # two steps\n",
    "pOvershoot = 0.1 # three steps\n",
    "pUndershoot = 0.1 # one step\n",
    "z = []\n",
    "\n",
    "def sense(prob, measurement):\n",
    "    belief = [] # unbalanced probability\n",
    "    for i in range(len(prob)):\n",
    "        hit = (measurement == world[i])\n",
    "        belief.append(prob[i] * ((hit * pHit) + ((1-hit) * pMiss)))  \n",
    "    s = sum(belief)\n",
    "    for j in range(len(belief)):\n",
    "        belief[j] = belief[j]/s\n",
    "    return belief\n",
    "\n",
    "def move(p, U):  # U is the number of times the robot moves to the right or left\n",
    "    q = []\n",
    "    for i in range(len(p)):\n",
    "        prob_of_movement = pExact * p[i-U % len(p)]\n",
    "        prob_of_movement = prob_of_movement + pOvershoot * p[i-U-1 % len(p)] # not yet understood\n",
    "        prob_of_movement = prob_of_movement + pUndershoot * p[i-U+1 % len(p)]\n",
    "        q.append(prob_of_movement)\n",
    "        \n",
    "    return q\n",
    "\n",
    "for k in range(len(Z)):\n",
    "    p = sense(p, Z[k]) # recursion\n",
    "    p = move(p, motion[k])\n",
    "print(p)"
   ]
  },
  {
   "cell_type": "markdown",
   "metadata": {},
   "source": [
    "The robot after moving twice has a higher probablility of 0.39 that it is closer to a green"
   ]
  },
  {
   "cell_type": "markdown",
   "metadata": {},
   "source": [
    "- What if the robot senses red twice?"
   ]
  },
  {
   "cell_type": "code",
   "execution_count": 49,
   "metadata": {},
   "outputs": [
    {
     "name": "stdout",
     "output_type": "stream",
     "text": [
      "[0.07882352941176471, 0.07529411764705884, 0.22470588235294123, 0.4329411764705882, 0.18823529411764706]\n"
     ]
    }
   ],
   "source": [
    "p = [0.2, 0.2, 0.2, 0.2, 0.2] # uniform distribution (Prior)\n",
    "world = [\"green\", \"red\", \"red\", \"green\", \"green\"]\n",
    "Z = [\"red\", \"red\"] # robot measurement\n",
    "motion = [1, 1]\n",
    "pHit = 0.6 # reward\n",
    "pMiss = 0.2 # penalty\n",
    "pExact = 0.8 # two steps\n",
    "pOvershoot = 0.1 # three steps\n",
    "pUndershoot = 0.1 # one step\n",
    "z = []\n",
    "\n",
    "def sense(prob, measurement):\n",
    "    belief = [] # unbalanced probability\n",
    "    for i in range(len(prob)):\n",
    "        hit = (measurement == world[i])\n",
    "        belief.append(prob[i] * ((hit * pHit) + ((1-hit) * pMiss)))  \n",
    "    s = sum(belief)\n",
    "    for j in range(len(belief)):\n",
    "        belief[j] = belief[j]/s\n",
    "    return belief\n",
    "\n",
    "def move(p, U):  # U is the number of times the robot moves to the right or left\n",
    "    q = []\n",
    "    for i in range(len(p)):\n",
    "        prob_of_movement = pExact * p[i-U % len(p)]\n",
    "        prob_of_movement = prob_of_movement + pOvershoot * p[i-U-1 % len(p)] # not yet understood\n",
    "        prob_of_movement = prob_of_movement + pUndershoot * p[i-U+1 % len(p)]\n",
    "        q.append(prob_of_movement)\n",
    "        \n",
    "    return q\n",
    "\n",
    "for k in range(len(Z)):\n",
    "    p = sense(p, Z[k]) # recursion\n",
    "    p = move(p, motion[k])\n",
    "print(p)"
   ]
  },
  {
   "cell_type": "markdown",
   "metadata": {},
   "source": [
    "The robot after sensing red twice, moved a step to the right (i.e. the fourth cell) with a higher probability of 0.43"
   ]
  },
  {
   "cell_type": "markdown",
   "metadata": {},
   "source": [
    "This is similar to the system used in Google's self-driving cars. \n",
    "But instead of the color red and green, we would plug in the color of the lane markings relative to the color of the pavement"
   ]
  },
  {
   "cell_type": "markdown",
   "metadata": {},
   "source": [
    "SO IN SUMMARY\n",
    "- BELIEF = PROBABLILTY\n",
    "- SENSE = PRODUCT followed by NORMALIZATION\n",
    "- MOVE = CONVOLUTION (ADDITION)"
   ]
  },
  {
   "cell_type": "code",
   "execution_count": null,
   "metadata": {
    "collapsed": true
   },
   "outputs": [],
   "source": []
  }
 ],
 "metadata": {
  "kernelspec": {
   "display_name": "Python 3",
   "language": "python",
   "name": "python3"
  },
  "language_info": {
   "codemirror_mode": {
    "name": "ipython",
    "version": 3
   },
   "file_extension": ".py",
   "mimetype": "text/x-python",
   "name": "python",
   "nbconvert_exporter": "python",
   "pygments_lexer": "ipython3",
   "version": "3.6.2"
  }
 },
 "nbformat": 4,
 "nbformat_minor": 2
}
